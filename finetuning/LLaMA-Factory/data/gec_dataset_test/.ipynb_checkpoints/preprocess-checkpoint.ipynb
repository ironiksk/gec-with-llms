{
 "cells": [
  {
   "cell_type": "code",
   "execution_count": 1,
   "id": "a5bc92d7-268a-4f53-9a92-db9075fed39f",
   "metadata": {},
   "outputs": [],
   "source": [
    "import pandas as pd"
   ]
  },
  {
   "cell_type": "code",
   "execution_count": 2,
   "id": "915b053e-d81c-46d5-9bb5-d3129ff8c14b",
   "metadata": {},
   "outputs": [],
   "source": [
    "# test set"
   ]
  },
  {
   "cell_type": "code",
   "execution_count": 3,
   "id": "988dfff2-9588-4dc1-b203-de6c8b34d95a",
   "metadata": {},
   "outputs": [
    {
     "data": {
      "text/html": [
       "<div>\n",
       "<style scoped>\n",
       "    .dataframe tbody tr th:only-of-type {\n",
       "        vertical-align: middle;\n",
       "    }\n",
       "\n",
       "    .dataframe tbody tr th {\n",
       "        vertical-align: top;\n",
       "    }\n",
       "\n",
       "    .dataframe thead th {\n",
       "        text-align: right;\n",
       "    }\n",
       "</style>\n",
       "<table border=\"1\" class=\"dataframe\">\n",
       "  <thead>\n",
       "    <tr style=\"text-align: right;\">\n",
       "      <th></th>\n",
       "      <th>src</th>\n",
       "    </tr>\n",
       "  </thead>\n",
       "  <tbody>\n",
       "    <tr>\n",
       "      <th>0</th>\n",
       "      <td>Keeping the Secret of Genetic Testing</td>\n",
       "    </tr>\n",
       "    <tr>\n",
       "      <th>1</th>\n",
       "      <td>What is genetic risk ?</td>\n",
       "    </tr>\n",
       "    <tr>\n",
       "      <th>2</th>\n",
       "      <td>Genetic risk refers more to your chance of inh...</td>\n",
       "    </tr>\n",
       "    <tr>\n",
       "      <th>3</th>\n",
       "      <td>People get certain disease because of genetic ...</td>\n",
       "    </tr>\n",
       "    <tr>\n",
       "      <th>4</th>\n",
       "      <td>How much a genetic change tells us about your ...</td>\n",
       "    </tr>\n",
       "    <tr>\n",
       "      <th>...</th>\n",
       "      <td>...</td>\n",
       "    </tr>\n",
       "    <tr>\n",
       "      <th>1307</th>\n",
       "      <td>As a result , if the situation keep go on in t...</td>\n",
       "    </tr>\n",
       "    <tr>\n",
       "      <th>1308</th>\n",
       "      <td>To put it in the nutshell , everything has its...</td>\n",
       "    </tr>\n",
       "    <tr>\n",
       "      <th>1309</th>\n",
       "      <td>So does social media network .</td>\n",
       "    </tr>\n",
       "    <tr>\n",
       "      <th>1310</th>\n",
       "      <td>It not only is convenient and beneficial in co...</td>\n",
       "    </tr>\n",
       "    <tr>\n",
       "      <th>1311</th>\n",
       "      <td>Social media is only beneficial as long as we ...</td>\n",
       "    </tr>\n",
       "  </tbody>\n",
       "</table>\n",
       "<p>1312 rows × 1 columns</p>\n",
       "</div>"
      ],
      "text/plain": [
       "                                                    src\n",
       "0                 Keeping the Secret of Genetic Testing\n",
       "1                                What is genetic risk ?\n",
       "2     Genetic risk refers more to your chance of inh...\n",
       "3     People get certain disease because of genetic ...\n",
       "4     How much a genetic change tells us about your ...\n",
       "...                                                 ...\n",
       "1307  As a result , if the situation keep go on in t...\n",
       "1308  To put it in the nutshell , everything has its...\n",
       "1309                     So does social media network .\n",
       "1310  It not only is convenient and beneficial in co...\n",
       "1311  Social media is only beneficial as long as we ...\n",
       "\n",
       "[1312 rows x 1 columns]"
      ]
     },
     "execution_count": 3,
     "metadata": {},
     "output_type": "execute_result"
    }
   ],
   "source": [
    "df = pd.read_csv('/mnt/green-efs/oleksandr.korniienko/data/nucle.test.csv')\n",
    "df"
   ]
  },
  {
   "cell_type": "code",
   "execution_count": 9,
   "id": "b3ea482d-5415-48cd-959b-274e77fc12ad",
   "metadata": {},
   "outputs": [
    {
     "data": {
      "text/plain": [
       "{'system': 'You are helpful AI writing assistant.',\n",
       " 'instruction': 'Rewrite this text to make it grammatically correct .',\n",
       " 'input': 'Keeping the Secret of Genetic Testing',\n",
       " 'output': ''}"
      ]
     },
     "execution_count": 9,
     "metadata": {},
     "output_type": "execute_result"
    }
   ],
   "source": [
    "# samples = []\n",
    "# instruction = \"Rewrite this text to make it grammatically correct .\"\n",
    "# for _, row in df.iterrows():\n",
    "#     sample =   {\n",
    "#         \"system\": ,\n",
    "#         \"instruction\": \"\",\n",
    "#         \"input\": row.src,\n",
    "#         \"output\": \"\",\n",
    "#     }\n",
    "#     samples.append(sample)\n",
    "# samples[0]"
   ]
  },
  {
   "cell_type": "code",
   "execution_count": 23,
   "id": "994ccc86-0b0b-4929-a7ac-7e7cbe45f741",
   "metadata": {},
   "outputs": [
    {
     "data": {
      "text/plain": [
       "{'instruction': 'Rewrite this text to make it grammatically correct .',\n",
       " 'input': 'Keeping the Secret of Genetic Testing',\n",
       " 'output': ''}"
      ]
     },
     "execution_count": 23,
     "metadata": {},
     "output_type": "execute_result"
    }
   ],
   "source": [
    "prompt = \"'<s>[INST] <<SYS>>\\nRewrite this text to make it grammatically correct .\\n<</SYS>>\\n\\n{text} [/INST]'\"\n",
    "\n",
    "samples = []\n",
    "for _, row in df.iterrows():\n",
    "    sample =   {\n",
    "        \"instruction\": \"Rewrite this text to make it grammatically correct .\",\n",
    "        \"input\": row.src,\n",
    "        \"output\":\"\",\n",
    "    }\n",
    "    samples.append(sample)\n",
    "samples[0]\n"
   ]
  },
  {
   "cell_type": "code",
   "execution_count": 24,
   "id": "c5340e4f-7a1a-4e15-9290-15f4257e0fe6",
   "metadata": {},
   "outputs": [],
   "source": [
    "import json\n",
    "with open('../gec_nucle_test.json', 'w') as f:\n",
    "    json.dump(samples, f, indent=2)\n"
   ]
  },
  {
   "cell_type": "code",
   "execution_count": null,
   "id": "72028554-214b-4031-8b94-d0c716edf8d3",
   "metadata": {},
   "outputs": [],
   "source": []
  },
  {
   "cell_type": "code",
   "execution_count": null,
   "id": "880b7187-ba64-43c5-b144-db83a0ecef63",
   "metadata": {},
   "outputs": [],
   "source": []
  },
  {
   "cell_type": "code",
   "execution_count": 26,
   "id": "f075903b-df78-4167-aa79-ad05c1f4049d",
   "metadata": {},
   "outputs": [
    {
     "name": "stderr",
     "output_type": "stream",
     "text": [
      "[nltk_data] Downloading package punkt to\n",
      "[nltk_data]     /home/oleksandr.korniienko/nltk_data...\n",
      "[nltk_data]   Package punkt is already up-to-date!\n"
     ]
    }
   ],
   "source": [
    "import spacy\n",
    "NLP = spacy.load('en_core_web_sm')\n",
    "\n",
    "import nltk\n",
    "from nltk.tokenize import sent_tokenize\n",
    "nltk.download('punkt')\n",
    "\n",
    "def tokenize(txt):\n",
    "    doc = NLP(txt)\n",
    "    return \" \".join([t.text for t in doc])\n",
    "\n"
   ]
  },
  {
   "cell_type": "code",
   "execution_count": 35,
   "id": "40c12de1-45ae-48f3-b5f1-a156520081db",
   "metadata": {},
   "outputs": [
    {
     "data": {
      "text/plain": [
       "'/home/oleksandr.korniienko/LLaMA-Factory/saves/LLaMA2-7B-chat-gec/lora-all/predict/output.csv'"
      ]
     },
     "execution_count": 35,
     "metadata": {},
     "output_type": "execute_result"
    }
   ],
   "source": [
    "# Gemma-7B-chat-gec  LLaMA2-7B-chat-gec  LLaMA2-7B-gec  Mistral-7B-Instruct-gec  phi-2-gec\n",
    "model_name = 'Gemma-7B-chat-gec'\n",
    "model_name = 'LLaMA2-7B-chat-gec'\n",
    "\n",
    "\n",
    "data_path = f'/home/oleksandr.korniienko/LLaMA-Factory/saves/{model_name}/lora-all/predict/generated_predictions.jsonl'\n",
    "output_path = f'/home/oleksandr.korniienko/LLaMA-Factory/saves/{model_name}/lora-all/predict/output.csv'\n",
    "\n",
    "import json\n",
    "with open(data_path, 'r') as f:\n",
    "    data = [json.loads(l) for l in f.readlines()]\n",
    "\n",
    "df_output = pd.DataFrame(data)\n",
    "\n",
    "df = pd.read_csv('/mnt/green-efs/oleksandr.korniienko/data/nucle.test.csv')\n",
    "\n",
    "df['output'] = df_output['predict']\n",
    "\n",
    "df['output'] = df.output.map(tokenize)\n",
    "\n",
    "df.to_csv(output_path, index=False)\n",
    "\n",
    "output_path"
   ]
  },
  {
   "cell_type": "code",
   "execution_count": 36,
   "id": "04e771bc-7773-4017-a482-788ed17a93a2",
   "metadata": {},
   "outputs": [
    {
     "data": {
      "text/plain": [
       "'s2s_evaluate --eval /mnt/green-efs/kostiantyn.omelianchuk/data/evalsets/nucle14-2a.m2 --pred /home/oleksandr.korniienko/LLaMA-Factory/saves/LLaMA2-7B-chat-gec/lora-all/predict/output.csv  --metrics max_match wed --print-format yaml'"
      ]
     },
     "execution_count": 36,
     "metadata": {},
     "output_type": "execute_result"
    }
   ],
   "source": [
    "cmd = f's2s_evaluate --eval /mnt/green-efs/kostiantyn.omelianchuk/data/evalsets/nucle14-2a.m2 --pred {output_path}  --metrics max_match wed --print-format yaml'\n",
    "\n",
    "cmd"
   ]
  },
  {
   "cell_type": "code",
   "execution_count": null,
   "id": "01344907-fbaf-42da-b379-0d079bb91362",
   "metadata": {},
   "outputs": [],
   "source": []
  }
 ],
 "metadata": {
  "kernelspec": {
   "display_name": "Python 3 (ipykernel)",
   "language": "python",
   "name": "python3"
  },
  "language_info": {
   "codemirror_mode": {
    "name": "ipython",
    "version": 3
   },
   "file_extension": ".py",
   "mimetype": "text/x-python",
   "name": "python",
   "nbconvert_exporter": "python",
   "pygments_lexer": "ipython3",
   "version": "3.11.7"
  }
 },
 "nbformat": 4,
 "nbformat_minor": 5
}
