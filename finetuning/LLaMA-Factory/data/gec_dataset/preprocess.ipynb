{
 "cells": [
  {
   "cell_type": "code",
   "execution_count": 11,
   "id": "a5bc92d7-268a-4f53-9a92-db9075fed39f",
   "metadata": {},
   "outputs": [],
   "source": [
    "import pandas as pd"
   ]
  },
  {
   "cell_type": "code",
   "execution_count": 18,
   "id": "ce718827-0b8a-4530-9e1b-7e32f9b18489",
   "metadata": {},
   "outputs": [
    {
     "data": {
      "text/html": [
       "<div>\n",
       "<style scoped>\n",
       "    .dataframe tbody tr th:only-of-type {\n",
       "        vertical-align: middle;\n",
       "    }\n",
       "\n",
       "    .dataframe tbody tr th {\n",
       "        vertical-align: top;\n",
       "    }\n",
       "\n",
       "    .dataframe thead th {\n",
       "        text-align: right;\n",
       "    }\n",
       "</style>\n",
       "<table border=\"1\" class=\"dataframe\">\n",
       "  <thead>\n",
       "    <tr style=\"text-align: right;\">\n",
       "      <th></th>\n",
       "      <th>src</th>\n",
       "      <th>tgt</th>\n",
       "    </tr>\n",
       "  </thead>\n",
       "  <tbody>\n",
       "    <tr>\n",
       "      <th>0</th>\n",
       "      <td>My town is a medium size city with eighty thou...</td>\n",
       "      <td>My town is a medium - sized city with eighty t...</td>\n",
       "    </tr>\n",
       "    <tr>\n",
       "      <th>1</th>\n",
       "      <td>It has a high density population because its s...</td>\n",
       "      <td>It has a high - density population because of ...</td>\n",
       "    </tr>\n",
       "    <tr>\n",
       "      <th>2</th>\n",
       "      <td>Despite of it is an industrial city , there ar...</td>\n",
       "      <td>Although it is an industrial city , there are ...</td>\n",
       "    </tr>\n",
       "    <tr>\n",
       "      <th>3</th>\n",
       "      <td>I recommend visiting the artificial lake in th...</td>\n",
       "      <td>I recommend visiting the artificial lake in th...</td>\n",
       "    </tr>\n",
       "    <tr>\n",
       "      <th>4</th>\n",
       "      <td>Pasteries are very common and most of them off...</td>\n",
       "      <td>Pasteries are very common and most of them off...</td>\n",
       "    </tr>\n",
       "    <tr>\n",
       "      <th>...</th>\n",
       "      <td>...</td>\n",
       "      <td>...</td>\n",
       "    </tr>\n",
       "    <tr>\n",
       "      <th>34303</th>\n",
       "      <td>In the same way a secret agent has to be able ...</td>\n",
       "      <td>In the same way , a secret agent has to be abl...</td>\n",
       "    </tr>\n",
       "    <tr>\n",
       "      <th>34304</th>\n",
       "      <td>Therefore bravery is very important : nobody n...</td>\n",
       "      <td>Therefore , bravery is very important : nobody...</td>\n",
       "    </tr>\n",
       "    <tr>\n",
       "      <th>34305</th>\n",
       "      <td>A secret agent works undercover , so his most ...</td>\n",
       "      <td>A secret agent works undercover , so his most ...</td>\n",
       "    </tr>\n",
       "    <tr>\n",
       "      <th>34306</th>\n",
       "      <td>Besides , since his work is secret , he ca n't...</td>\n",
       "      <td>Besides , since his work is secret , he ca n't...</td>\n",
       "    </tr>\n",
       "    <tr>\n",
       "      <th>34307</th>\n",
       "      <td>So , although the life of secret agents may se...</td>\n",
       "      <td>So , although the life of secret agents may se...</td>\n",
       "    </tr>\n",
       "  </tbody>\n",
       "</table>\n",
       "<p>34308 rows × 2 columns</p>\n",
       "</div>"
      ],
      "text/plain": [
       "                                                     src  \\\n",
       "0      My town is a medium size city with eighty thou...   \n",
       "1      It has a high density population because its s...   \n",
       "2      Despite of it is an industrial city , there ar...   \n",
       "3      I recommend visiting the artificial lake in th...   \n",
       "4      Pasteries are very common and most of them off...   \n",
       "...                                                  ...   \n",
       "34303  In the same way a secret agent has to be able ...   \n",
       "34304  Therefore bravery is very important : nobody n...   \n",
       "34305  A secret agent works undercover , so his most ...   \n",
       "34306  Besides , since his work is secret , he ca n't...   \n",
       "34307  So , although the life of secret agents may se...   \n",
       "\n",
       "                                                     tgt  \n",
       "0      My town is a medium - sized city with eighty t...  \n",
       "1      It has a high - density population because of ...  \n",
       "2      Although it is an industrial city , there are ...  \n",
       "3      I recommend visiting the artificial lake in th...  \n",
       "4      Pasteries are very common and most of them off...  \n",
       "...                                                  ...  \n",
       "34303  In the same way , a secret agent has to be abl...  \n",
       "34304  Therefore , bravery is very important : nobody...  \n",
       "34305  A secret agent works undercover , so his most ...  \n",
       "34306  Besides , since his work is secret , he ca n't...  \n",
       "34307  So , although the life of secret agents may se...  \n",
       "\n",
       "[34308 rows x 2 columns]"
      ]
     },
     "execution_count": 18,
     "metadata": {},
     "output_type": "execute_result"
    }
   ],
   "source": [
    "# df = pd.read_csv('gec_sota.bea_all_notemplate.train.csv')\n",
    "df = pd.read_csv('wi_locness.train.tokenized.csv')\n",
    "df"
   ]
  },
  {
   "cell_type": "code",
   "execution_count": 20,
   "id": "2427e361-27ea-43c6-be45-b230ed850ff3",
   "metadata": {},
   "outputs": [],
   "source": [
    "df.dropna(inplace=True)"
   ]
  },
  {
   "cell_type": "code",
   "execution_count": 21,
   "id": "49088fba-6d26-4017-9be1-0caeca967415",
   "metadata": {},
   "outputs": [
    {
     "data": {
      "text/plain": [
       "{'instruction': 'Fix all grammatical errors .',\n",
       " 'input': 'My town is a medium size city with eighty thousand inhabitants .',\n",
       " 'output': 'My town is a medium - sized city with eighty thousand inhabitants .',\n",
       " 'history': []}"
      ]
     },
     "execution_count": 21,
     "metadata": {},
     "output_type": "execute_result"
    }
   ],
   "source": [
    "sample =   {\n",
    "    \"instruction\": \"听起来很不错。人工智能可能在哪些方面面临挑战呢？\",\n",
    "    \"input\": \"\",\n",
    "    \"output\": \"人工智能面临的挑战包括数据隐私、安全和道德方面的问题，以及影响就业机会的自动化等问题。\",\n",
    "    \"history\": [\n",
    "        [\"你好，你能帮我解答一个问题吗？\", \"当然，请问有什么问题？\"],\n",
    "        [\"我想了解人工智能的未来发展方向，你有什么想法吗？\", \"人工智能在未来的发展方向可能包括更强大的机器学习算法，更先进的自然语言处理技术，以及更加智能的机器人。\"]\n",
    "    ]\n",
    "}\n",
    "\n",
    "samples = []\n",
    "instruction = \"Fix all grammatical errors .\"\n",
    "for _, row in df.iterrows():\n",
    "    sample =   {\n",
    "        \"instruction\": instruction,\n",
    "        \"input\": row.src,\n",
    "        \"output\": row.tgt,\n",
    "        \"history\": []\n",
    "    }\n",
    "    samples.append(sample)\n",
    "samples[0]"
   ]
  },
  {
   "cell_type": "code",
   "execution_count": 22,
   "id": "8b72e0a7-a53b-47e4-9d1a-0b2bbdba8a35",
   "metadata": {},
   "outputs": [],
   "source": [
    "import json\n",
    "with open('dataset.json', 'w') as f:\n",
    "    json.dump(samples, f, indent=2)\n"
   ]
  },
  {
   "cell_type": "code",
   "execution_count": 6,
   "id": "915b053e-d81c-46d5-9bb5-d3129ff8c14b",
   "metadata": {},
   "outputs": [],
   "source": [
    "# test set"
   ]
  },
  {
   "cell_type": "code",
   "execution_count": 8,
   "id": "988dfff2-9588-4dc1-b203-de6c8b34d95a",
   "metadata": {},
   "outputs": [
    {
     "data": {
      "text/html": [
       "<div>\n",
       "<style scoped>\n",
       "    .dataframe tbody tr th:only-of-type {\n",
       "        vertical-align: middle;\n",
       "    }\n",
       "\n",
       "    .dataframe tbody tr th {\n",
       "        vertical-align: top;\n",
       "    }\n",
       "\n",
       "    .dataframe thead th {\n",
       "        text-align: right;\n",
       "    }\n",
       "</style>\n",
       "<table border=\"1\" class=\"dataframe\">\n",
       "  <thead>\n",
       "    <tr style=\"text-align: right;\">\n",
       "      <th></th>\n",
       "      <th>src</th>\n",
       "    </tr>\n",
       "  </thead>\n",
       "  <tbody>\n",
       "    <tr>\n",
       "      <th>0</th>\n",
       "      <td>Keeping the Secret of Genetic Testing</td>\n",
       "    </tr>\n",
       "    <tr>\n",
       "      <th>1</th>\n",
       "      <td>What is genetic risk ?</td>\n",
       "    </tr>\n",
       "    <tr>\n",
       "      <th>2</th>\n",
       "      <td>Genetic risk refers more to your chance of inh...</td>\n",
       "    </tr>\n",
       "    <tr>\n",
       "      <th>3</th>\n",
       "      <td>People get certain disease because of genetic ...</td>\n",
       "    </tr>\n",
       "    <tr>\n",
       "      <th>4</th>\n",
       "      <td>How much a genetic change tells us about your ...</td>\n",
       "    </tr>\n",
       "    <tr>\n",
       "      <th>...</th>\n",
       "      <td>...</td>\n",
       "    </tr>\n",
       "    <tr>\n",
       "      <th>1307</th>\n",
       "      <td>As a result , if the situation keep go on in t...</td>\n",
       "    </tr>\n",
       "    <tr>\n",
       "      <th>1308</th>\n",
       "      <td>To put it in the nutshell , everything has its...</td>\n",
       "    </tr>\n",
       "    <tr>\n",
       "      <th>1309</th>\n",
       "      <td>So does social media network .</td>\n",
       "    </tr>\n",
       "    <tr>\n",
       "      <th>1310</th>\n",
       "      <td>It not only is convenient and beneficial in co...</td>\n",
       "    </tr>\n",
       "    <tr>\n",
       "      <th>1311</th>\n",
       "      <td>Social media is only beneficial as long as we ...</td>\n",
       "    </tr>\n",
       "  </tbody>\n",
       "</table>\n",
       "<p>1312 rows × 1 columns</p>\n",
       "</div>"
      ],
      "text/plain": [
       "                                                    src\n",
       "0                 Keeping the Secret of Genetic Testing\n",
       "1                                What is genetic risk ?\n",
       "2     Genetic risk refers more to your chance of inh...\n",
       "3     People get certain disease because of genetic ...\n",
       "4     How much a genetic change tells us about your ...\n",
       "...                                                 ...\n",
       "1307  As a result , if the situation keep go on in t...\n",
       "1308  To put it in the nutshell , everything has its...\n",
       "1309                     So does social media network .\n",
       "1310  It not only is convenient and beneficial in co...\n",
       "1311  Social media is only beneficial as long as we ...\n",
       "\n",
       "[1312 rows x 1 columns]"
      ]
     },
     "execution_count": 8,
     "metadata": {},
     "output_type": "execute_result"
    }
   ],
   "source": [
    "df = pd.read_csv('nucle.test.csv')\n",
    "df"
   ]
  },
  {
   "cell_type": "code",
   "execution_count": 9,
   "id": "b3ea482d-5415-48cd-959b-274e77fc12ad",
   "metadata": {},
   "outputs": [
    {
     "data": {
      "text/plain": [
       "{'instruction': 'Fix all grammatical errors , do not rephrase .',\n",
       " 'input': 'Keeping the Secret of Genetic Testing',\n",
       " 'output': '',\n",
       " 'history': []}"
      ]
     },
     "execution_count": 9,
     "metadata": {},
     "output_type": "execute_result"
    }
   ],
   "source": [
    "samples = []\n",
    "instruction = \"Fix all grammatical errors , do not rephrase .\"\n",
    "for _, row in df.iterrows():\n",
    "    sample =   {\n",
    "        \"instruction\": instruction,\n",
    "        \"input\": row.src,\n",
    "        \"output\": \"\",\n",
    "        \"history\": []\n",
    "    }\n",
    "    samples.append(sample)\n",
    "samples[0]"
   ]
  },
  {
   "cell_type": "code",
   "execution_count": 10,
   "id": "c5340e4f-7a1a-4e15-9290-15f4257e0fe6",
   "metadata": {},
   "outputs": [],
   "source": [
    "import json\n",
    "with open('dataset_test.json', 'w') as f:\n",
    "    json.dump(samples, f, indent=2)\n"
   ]
  },
  {
   "cell_type": "code",
   "execution_count": null,
   "id": "d84ccf30-a7c9-4edd-93bc-186c73f6bfa6",
   "metadata": {},
   "outputs": [],
   "source": []
  }
 ],
 "metadata": {
  "kernelspec": {
   "display_name": "Python 3 (ipykernel)",
   "language": "python",
   "name": "python3"
  },
  "language_info": {
   "codemirror_mode": {
    "name": "ipython",
    "version": 3
   },
   "file_extension": ".py",
   "mimetype": "text/x-python",
   "name": "python",
   "nbconvert_exporter": "python",
   "pygments_lexer": "ipython3",
   "version": "3.11.7"
  }
 },
 "nbformat": 4,
 "nbformat_minor": 5
}
